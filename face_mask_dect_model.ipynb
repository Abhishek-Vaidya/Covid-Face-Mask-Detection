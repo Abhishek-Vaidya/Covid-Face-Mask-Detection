{
  "nbformat": 4,
  "nbformat_minor": 0,
  "metadata": {
    "colab": {
      "name": "MY_Facemaskdect.ipynb",
      "provenance": [],
      "collapsed_sections": []
    },
    "kernelspec": {
      "name": "python3",
      "display_name": "Python 3"
    },
    "language_info": {
      "name": "python"
    }
  },
  "cells": [
    {
      "cell_type": "code",
      "metadata": {
        "id": "8YZWvwk0mxE4"
      },
      "source": [
        "from tensorflow.keras.models import Sequential\n",
        "from tensorflow.keras.layers import Conv2D,MaxPooling2D,Dropout,Flatten,Dense\n",
        "import numpy as np\n",
        "from tensorflow.keras.optimizers import Adam\n",
        "from tensorflow.keras.preprocessing.image import ImageDataGenerator\n",
        "import matplotlib.pyplot as plt"
      ],
      "execution_count": null,
      "outputs": []
    },
    {
      "cell_type": "code",
      "metadata": {
        "id": "JxpgYrkCH6cm"
      },
      "source": [
        "! unzip -uq \"/content/drive/MyDrive/Face Mask Dect. Project/archive.zip\""
      ],
      "execution_count": null,
      "outputs": []
    },
    {
      "cell_type": "code",
      "metadata": {
        "id": "9fI-0WZCJnTR"
      },
      "source": [
        "import os\n",
        "min_dir = '/content/New Masks Dataset'\n",
        "train_dir = '/content/New Masks Dataset/Test'\n",
        "test_dir = '/content/New Masks Dataset/Train'\n",
        "validate_dir = '/content/New Masks Dataset/Validation'\n",
        "train_mask_dir = '/content/New Masks Dataset/Train/Mask'\n",
        "train_nonmask_dir = '/content/New Masks Dataset/Train/Non Mask'"
      ],
      "execution_count": null,
      "outputs": []
    },
    {
      "cell_type": "code",
      "metadata": {
        "colab": {
          "base_uri": "https://localhost:8080/"
        },
        "id": "VUETWhiTKiU_",
        "outputId": "38a72d44-c3e6-47a5-8273-d2f381f6c2b5"
      },
      "source": [
        "print(train_mask_dir)"
      ],
      "execution_count": null,
      "outputs": [
        {
          "output_type": "stream",
          "text": [
            "/content/New Masks Dataset/Train/Mask\n"
          ],
          "name": "stdout"
        }
      ]
    },
    {
      "cell_type": "code",
      "metadata": {
        "colab": {
          "base_uri": "https://localhost:8080/"
        },
        "id": "Y3vUWCXmKuag",
        "outputId": "e9f64502-0269-4cee-cd8d-099c4d5c4617"
      },
      "source": [
        "train_mask_names = os.listdir(train_mask_dir)\n",
        "train_nonmask_names = os.listdir(train_nonmask_dir)\n",
        "print(train_mask_names)\n",
        "print(train_nonmask_names)"
      ],
      "execution_count": null,
      "outputs": [
        {
          "output_type": "stream",
          "text": [
            "['1609.jpg', '0027.jpg', '1406.jpg', '0864.jpg', '0676.jpg', '1110.jpg', '0727.jpg', '1251.jpg', '1514.jpg', '0913.jpg', '0323.jpg', '1556.jpg', '0022.jpg', '1636.jpg', '0769.jpg', '1172.jpg', '0066.jpg', '0343.jpg', '0719.jpg', '1520.jpg', '0650.jpg', '1576.jpg', '1290.jpg', '0415.jpg', '0160.jpg', '0249.jpg', '0891.jpg', '1471.jpg', '0091.jpg', '1058.jpg', '0583.jpg', '1487.jpg', '1096.jpg', '0037.jpg', '1562.jpg', '0200.jpg', '1135.jpg', '0201.jpg', '0506.jpg', '1631.jpg', '1280.jpg', '1020.jpg', '1340.jpg', '1109.jpg', '0831.jpg', '1053.jpg', '1626.jpg', '1462.jpg', '0791.jpg', '0311.jpeg', '0385.jpg', '1409.jpg', '1405.jpg', '1568.jpg', '0150.jpg', '0153.jpg', '0042.jpg', '1036.png', '0669.jpg', '0211.jpg', '0367.png', '0418.jpg', '0273.jpg', '0125.jpeg', '0387.png', '0536.jpg', '0737.jpg', '0547.jpg', '1608.jpeg', '0161.jpg', '0257.jpg', '0934.png', '1132.jpg', '1068.png', '0372.jpg', '1555.jpg', '1554.jpg', '0545.jpg', '0777.jpg', '0999.png', '0614.jpg', '1645.jpg', '1255.jpg', '1160.jpg', '1339.jpg', '0582.jpg', '0805.jpg', '1095.jpg', '0930.jpg', '0498.jpg', '0639.jpg', '1234.jpg', '0806.jpg', '0250.png', '0746.jpg', '1037.png', '1455.jpg', '0128.png', '1490.jpg', '1491.jpg', '0158.jpg', '0384.jpg', '0112.png', '1634.jpg', '0168.png', '0782.jpg', '1338.jpg', '0486.jpg', '0626.jpg', '1473.jpg', '1083.jpg', '0113.jpg', '1394.jpg', '1512.jpg', '0761.jpg', '0048.jpg', '0954.jpg', '1115.jpg', '1369.jpg', '0216.jpg', '0638.jpg', '1515.jpg', '1664.jpg', '1103.png', '0376.png', '0466.jpg', '0936.jpg', '0655.jpg', '1323.jpg', '0043.jpg', '0803.jpg', '0286.jpg', '0427.jpg', '1456.jpg', '1486.jpg', '0779.jpg', '1527.jpg', '0006.jpg', '0559.jpg', '0470.jpg', '0577.jpg', '1383.jpg', '1195.jpg', '1513.jpg', '0309.jpg', '1574.jpg', '0698.jpg', '0505.jpg', '1279.jpg', '0129.png', '0731.jpg', '0481.jpg', '0417.jpg', '1453.jpg', '0451.jpg', '1159.jpg', '0759.jpg', '1669.jpg', '1517.jpg', '0566.jpg', '0714.jpg', '1601.jpg', '0499.jpg', '1506.jpg', '0772.jpg', '0733.jpg', '0951.jpg', '0693.jpg', '0040.jpg', '0750.jpg', '1214.jpg', '0170.jpg', '1511.jpg', '0267.jpg', '1166.jpg', '1635.jpg', '1488.jpg', '0838.jpg', '0127.jpg', '0488.jpg', '1133.jpg', '0115.jpg', '0171.jpg', '0247.jpg', '0188.jpg', '0063.jpg', '0097.png', '0515.png', '0166.jpg', '1041.jpg', '1154.jpg', '0660.jpg', '1584.jpg', '0414.jpg', '1243.jpg', '0901.jpeg', '0503.png', '0592.jpg', '1264.jpg', '1247.jpg', '0802.jpg', '1136.jpg', '0197.png', '0938.jpeg', '0932.jpg', '1040.jpg', '1291.jpg', '1493.jpg', '1112.jpg', '0241.jpg', '1067.jpg', '0317.jpg', '0690.jpg', '0198.jpg', '1526.jpg', '0657.jpg', '0019.jpg', '1137.jpg', '0243.jpg', '0269.jpg', '0837.jpg', '1553.jpg', '1539.jpg', '1492.jpg', '0726.jpg', '0469.jpg', '0888.jpg', '0786.jpg', '1637.jpg', '1558.png', '1378.jpg', '0121.png', '1106.jpg', '0725.jpg', '1246.jpg', '1155.jpg', '0976.jpg', '0126.jpg', '0116.png', '0715.jpg', '0558.jpg', '1523.jpg', '1548.jpg', '1278.jpg', '1560.jpg', '0792.jpg', '1689.jpg', '1589.jpg', '0029.jpg', '0220.jpg', '0561.jpg', '0773.jpg', '0743.jpg', '0055.jpg', '1583.jpg', '1598.jpg', '0277.jpg', '1577.jpg', '1536.jpg', '0784.jpg', '0003.jpg', '0190.jpg', '0972.jpg', '1530.jpg', '0502.png', '1117.jpg', '0911.jpg', '1600.jpg', '0644.jpg', '0018.jpg', '0202.jpg', '0862.jpg', '0988.jpg', '0661.jpg', '0943.jpg', '1346.jpg', '0544.jpg', '0212.jpg', '1518.jpg', '0787.jpg', '0205.jpg', '0671.jpg', '1107.jpg', '0110.jpg', '0994.jpg', '0770.jpg', '0420.jpeg', '0493.jpg', '1054.jpg', '1628.jpg', '0421.jpg', '1039.jpg', '0748.jpg', '1173.jpg', '0763.jpg', '0760.jpg', '1430.jpg', '1503.jpg', '0780.jpg', '0482.jpg']\n",
            "['142.jpg', '77.jpg', '193.jpg', '337.jpg', '265.jpg', '196.jpg', '350.jpg', '151.jpg', '214.jpg', '340.jpg', '289.jpg', '91.jpg', '12.jpg', '163.jpg', '198.jpg', '162.jpg', '263.jpg', '353.jpg', '54.jpg', '17.jpg', '117.jpg', '266.jpg', '322.jpg', '231.jpg', '215.jpg', '127.jpg', '13.jpg', '336.jpg', '306.jpg', '22.jpg', '14.jpg', '173.jpg', '232.jpg', '339.jpg', '55.jpg', '74.jpg', '252.jpg', '284.jpg', '136.jpg', '7.jpg', '243.jpg', '153.jpg', '84.jpg', '338.jpg', '206.jpg', '184.jpg', '4.jpg', '88.jpg', '227.jpg', '168.jpg', '0.jpg', '203.jpg', '6.jpg', '76.jpg', '32.jpg', '228.jpg', '239.jpg', '28.jpg', '229.jpg', '20.jpg', '100.jpg', '114.jpg', '246.jpg', '146.jpg', '323.jpg', '93.jpg', '347.jpg', '166.jpg', '102.jpg', '225.jpg', '139.jpg', '122.jpg', '134.jpg', '33.jpg', '312.jpg', '86.jpg', '321.jpg', '324.jpg', '221.jpg', '260.jpg', '66.jpg', '248.jpg', '178.jpg', '275.jpg', '331.jpg', '58.jpg', '56.jpg', '111.jpg', '18.jpg', '233.jpg', '278.jpg', '92.jpg', '249.jpg', '319.jpg', '171.jpg', '207.jpg', '73.jpg', '180.jpg', '132.jpg', '298.jpg', '81.jpg', '295.jpg', '124.jpg', '101.jpg', '138.jpg', '208.jpg', '164.jpg', '212.jpg', '108.jpg', '94.jpg', '87.jpg', '311.jpg', '160.jpg', '213.jpg', '19.jpg', '283.jpg', '330.jpg', '240.jpg', '288.jpg', '1.jpg', '217.jpg', '158.jpg', '349.jpg', '224.jpg', '29.jpg', '259.jpg', '27.jpg', '261.jpg', '344.jpg', '216.jpg', '97.jpg', '156.jpg', '15.jpg', '47.jpg', '294.jpg', '269.jpg', '310.jpg', '309.jpg', '179.jpg', '191.jpg', '70.jpg', '201.jpg', '79.jpg', '155.jpg', '177.jpg', '290.jpg', '270.jpg', '67.jpg', '141.jpg', '181.jpg', '329.jpg', '154.jpg', '53.jpg', '348.jpg', '130.jpg', '90.jpg', '335.jpg', '157.jpg', '161.jpg', '267.jpg', '280.jpg', '204.jpg', '186.jpg', '242.jpg', '105.jpg', '251.jpg', '255.jpg', '11.jpg', '299.jpg', '262.jpg', '318.jpg', '129.jpg', '194.jpg', '341.jpg', '308.jpg', '107.jpg', '351.jpg', '223.jpg', '24.jpg', '125.jpg', '95.jpg', '31.jpg', '293.jpg', '254.jpg', '116.jpg', '119.jpg', '176.jpg', '302.jpg', '174.jpg', '352.jpg', '183.jpg', '61.jpg', '16.jpg', '30.jpg', '143.jpg', '234.jpg', '286.jpg', '118.jpg', '282.jpg', '106.jpg', '51.jpg', '65.jpg', '188.jpg', '96.jpg', '34.jpg', '172.jpg', '148.jpg', '152.jpg', '57.jpg', '192.jpg', '63.jpg', '2.jpg', '64.jpg', '89.jpg', '49.jpg', '110.jpg', '287.jpg', '197.jpg', '133.jpg', '285.jpg', '10.jpg', '145.jpg', '26.jpg', '99.jpg', '128.jpg', '226.jpg', '83.jpg', '40.jpg', '316.jpg', '315.jpg', '244.jpg', '292.jpg', '104.jpg', '271.jpg', '170.jpg', '52.jpg', '69.jpg', '220.jpg', '98.jpg', '42.jpg', '317.jpg', '303.jpg', '301.jpg', '253.jpg', '80.jpg', '120.jpg', '112.jpg', '46.jpg', '264.jpg', '326.jpg', '332.jpg', '258.jpg', '222.jpg', '169.jpg', '123.jpg', '211.jpg', '256.jpg', '291.jpg', '140.jpg', '300.jpg', '135.jpg', '247.jpg', '210.jpg', '36.jpg', '149.jpg', '131.jpg', '325.jpg', '237.jpg', '276.jpg', '328.jpg', '241.jpg', '185.jpg', '9.jpg', '334.jpg', '175.jpg', '3.jpg', '250.jpg', '44.jpg', '39.jpg', '187.jpg', '327.jpg', '159.jpg', '48.jpg', '50.jpg', '137.jpg', '218.jpg', '230.jpg', '45.jpg', '297.jpg', '62.jpg', '109.jpg', '345.jpg', '59.jpg', '37.jpg', '23.jpg', '115.jpg', '43.jpg', '307.jpg', '281.jpg', '195.jpg']\n"
          ],
          "name": "stdout"
        }
      ]
    },
    {
      "cell_type": "code",
      "metadata": {
        "colab": {
          "base_uri": "https://localhost:8080/"
        },
        "id": "DCZPpqNxMADz",
        "outputId": "7a088359-e1e4-48f2-b499-80f118ba5079"
      },
      "source": [
        "train_datagen = ImageDataGenerator(rescale=1/256,\n",
        "                                   zoom_range = 0.2,\n",
        "                                   rotation_range = 40,\n",
        "                                   horizontal_flip = True)\n",
        "test_datagen = ImageDataGenerator(rescale=1/256,)\n",
        "validate_datagen = ImageDataGenerator(rescale=1/256,)\n",
        "train_generator = train_datagen.flow_from_directory(train_dir,\n",
        "                                                   target_size = (150,150),\n",
        "                                                   batch_size =18,\n",
        "                                                   class_mode = 'binary')\n",
        "test_generator = test_datagen.flow_from_directory(test_dir,\n",
        "                                                   target_size = (150,150),\n",
        "                                                   batch_size =18,\n",
        "                                                   class_mode = 'binary')\n",
        "valid_generator = validate_datagen.flow_from_directory(validate_dir,\n",
        "                                                   target_size = (150,150),\n",
        "                                                   batch_size =18,\n",
        "                                                   class_mode = 'binary')"
      ],
      "execution_count": null,
      "outputs": [
        {
          "output_type": "stream",
          "text": [
            "Found 100 images belonging to 2 classes.\n",
            "Found 600 images belonging to 2 classes.\n",
            "Found 306 images belonging to 2 classes.\n"
          ],
          "name": "stdout"
        }
      ]
    },
    {
      "cell_type": "code",
      "metadata": {
        "colab": {
          "base_uri": "https://localhost:8080/"
        },
        "id": "16lyixw8QG1o",
        "outputId": "5b712b40-141b-4d5a-fc67-63d0837f5ea5"
      },
      "source": [
        "train_generator.class_indices"
      ],
      "execution_count": null,
      "outputs": [
        {
          "output_type": "execute_result",
          "data": {
            "text/plain": [
              "{'Mask': 0, 'Non Mask': 1}"
            ]
          },
          "metadata": {
            "tags": []
          },
          "execution_count": 6
        }
      ]
    },
    {
      "cell_type": "code",
      "metadata": {
        "colab": {
          "base_uri": "https://localhost:8080/"
        },
        "id": "NR9THQdHQSrh",
        "outputId": "8e01fe6b-658d-4511-e501-447c2079c0c1"
      },
      "source": [
        "print(train_generator.image_shape)"
      ],
      "execution_count": null,
      "outputs": [
        {
          "output_type": "stream",
          "text": [
            "(150, 150, 3)\n"
          ],
          "name": "stdout"
        }
      ]
    },
    {
      "cell_type": "code",
      "metadata": {
        "colab": {
          "base_uri": "https://localhost:8080/"
        },
        "id": "crTdu5uWT4XA",
        "outputId": "d0f37afa-f3c0-447a-d5ee-632787c894fd"
      },
      "source": [
        "model = Sequential()\n",
        "model.add(Conv2D(32,(2,2),padding='SAME',activation='relu',input_shape=(150,150,3)))\n",
        "model.add(MaxPooling2D(pool_size=(2,2)))\n",
        "model.add(Dropout(0.5))\n",
        "\n",
        "model.add(Conv2D(64,(2,2),padding='SAME',activation='relu'))\n",
        "model.add(MaxPooling2D(pool_size=(2,2)))\n",
        "model.add(Dropout(0.5))\n",
        "\n",
        "model.add(Flatten())\n",
        "\n",
        "model.add(Dense(256,activation='relu'))\n",
        "model.add(Dropout(0.5))\n",
        "model.add(Dense(1,activation='sigmoid'))\n",
        "model.summary()\n",
        "#model.add(Dense(256,activation='relu'))\n",
        "#model.add(Dropout(0.5))\n",
        "#model.add(Dense(128,activation='sigmoid'))\n",
        "#model.add(Dropout(0.5))\n",
        "#model.add(Dense(64,activation='relu'))\n",
        "#model.add(Dropout(0.5))\n",
        "#model.add(Dense(1,activation='sigmoid'))\n",
        "#model.summary()"
      ],
      "execution_count": null,
      "outputs": [
        {
          "output_type": "stream",
          "text": [
            "Model: \"sequential_1\"\n",
            "_________________________________________________________________\n",
            "Layer (type)                 Output Shape              Param #   \n",
            "=================================================================\n",
            "conv2d_2 (Conv2D)            (None, 150, 150, 32)      416       \n",
            "_________________________________________________________________\n",
            "max_pooling2d_2 (MaxPooling2 (None, 75, 75, 32)        0         \n",
            "_________________________________________________________________\n",
            "dropout_3 (Dropout)          (None, 75, 75, 32)        0         \n",
            "_________________________________________________________________\n",
            "conv2d_3 (Conv2D)            (None, 75, 75, 64)        8256      \n",
            "_________________________________________________________________\n",
            "max_pooling2d_3 (MaxPooling2 (None, 37, 37, 64)        0         \n",
            "_________________________________________________________________\n",
            "dropout_4 (Dropout)          (None, 37, 37, 64)        0         \n",
            "_________________________________________________________________\n",
            "flatten_1 (Flatten)          (None, 87616)             0         \n",
            "_________________________________________________________________\n",
            "dense_2 (Dense)              (None, 256)               22429952  \n",
            "_________________________________________________________________\n",
            "dropout_5 (Dropout)          (None, 256)               0         \n",
            "_________________________________________________________________\n",
            "dense_3 (Dense)              (None, 1)                 257       \n",
            "=================================================================\n",
            "Total params: 22,438,881\n",
            "Trainable params: 22,438,881\n",
            "Non-trainable params: 0\n",
            "_________________________________________________________________\n"
          ],
          "name": "stdout"
        }
      ]
    },
    {
      "cell_type": "code",
      "metadata": {
        "colab": {
          "base_uri": "https://localhost:8080/"
        },
        "id": "66d5_BqGUaZN",
        "outputId": "890a723e-4903-4e45-b928-25779bab6669"
      },
      "source": [
        "model.compile(Adam(lr=0.001),loss='binary_crossentropy',metrics=['accuracy'])"
      ],
      "execution_count": null,
      "outputs": [
        {
          "output_type": "stream",
          "text": [
            "/usr/local/lib/python3.7/dist-packages/tensorflow/python/keras/optimizer_v2/optimizer_v2.py:375: UserWarning: The `lr` argument is deprecated, use `learning_rate` instead.\n",
            "  \"The `lr` argument is deprecated, use `learning_rate` instead.\")\n"
          ],
          "name": "stderr"
        }
      ]
    },
    {
      "cell_type": "code",
      "metadata": {
        "colab": {
          "base_uri": "https://localhost:8080/"
        },
        "id": "rg_qtYPXVBaE",
        "outputId": "9ccf2f2d-2295-4aa5-8abf-d50a95dc10cb"
      },
      "source": [
        "history  = model.fit(train_generator,epochs=30,\n",
        "                     validation_data = valid_generator)"
      ],
      "execution_count": null,
      "outputs": [
        {
          "output_type": "stream",
          "text": [
            "Epoch 1/30\n",
            "6/6 [==============================] - 12s 2s/step - loss: 4.2940 - accuracy: 0.5400 - val_loss: 1.4752 - val_accuracy: 0.5000\n",
            "Epoch 2/30\n",
            "6/6 [==============================] - 11s 2s/step - loss: 3.0000 - accuracy: 0.5500 - val_loss: 0.6718 - val_accuracy: 0.5817\n",
            "Epoch 3/30\n",
            "6/6 [==============================] - 11s 2s/step - loss: 2.1419 - accuracy: 0.6000 - val_loss: 0.6924 - val_accuracy: 0.5065\n",
            "Epoch 4/30\n",
            "6/6 [==============================] - 11s 2s/step - loss: 0.9800 - accuracy: 0.6800 - val_loss: 0.6877 - val_accuracy: 0.5327\n",
            "Epoch 5/30\n",
            "6/6 [==============================] - 11s 2s/step - loss: 0.7642 - accuracy: 0.6500 - val_loss: 0.6897 - val_accuracy: 0.6176\n",
            "Epoch 6/30\n",
            "6/6 [==============================] - 11s 2s/step - loss: 0.5477 - accuracy: 0.7200 - val_loss: 0.6903 - val_accuracy: 0.5948\n",
            "Epoch 7/30\n",
            "6/6 [==============================] - 11s 2s/step - loss: 0.5766 - accuracy: 0.7300 - val_loss: 0.6841 - val_accuracy: 0.6307\n",
            "Epoch 8/30\n",
            "6/6 [==============================] - 11s 2s/step - loss: 0.5112 - accuracy: 0.7600 - val_loss: 0.6636 - val_accuracy: 0.7124\n",
            "Epoch 9/30\n",
            "6/6 [==============================] - 11s 2s/step - loss: 0.4831 - accuracy: 0.7900 - val_loss: 0.6443 - val_accuracy: 0.7320\n",
            "Epoch 10/30\n",
            "6/6 [==============================] - 11s 2s/step - loss: 0.4452 - accuracy: 0.8000 - val_loss: 0.6169 - val_accuracy: 0.7092\n",
            "Epoch 11/30\n",
            "6/6 [==============================] - 11s 2s/step - loss: 0.3886 - accuracy: 0.8600 - val_loss: 0.5970 - val_accuracy: 0.7418\n",
            "Epoch 12/30\n",
            "6/6 [==============================] - 11s 2s/step - loss: 0.3835 - accuracy: 0.8000 - val_loss: 0.5884 - val_accuracy: 0.7712\n",
            "Epoch 13/30\n",
            "6/6 [==============================] - 11s 2s/step - loss: 0.4023 - accuracy: 0.8000 - val_loss: 0.5696 - val_accuracy: 0.7386\n",
            "Epoch 14/30\n",
            "6/6 [==============================] - 11s 2s/step - loss: 0.3409 - accuracy: 0.8600 - val_loss: 0.5507 - val_accuracy: 0.7941\n",
            "Epoch 15/30\n",
            "6/6 [==============================] - 11s 2s/step - loss: 0.2753 - accuracy: 0.8800 - val_loss: 0.5175 - val_accuracy: 0.8235\n",
            "Epoch 16/30\n",
            "6/6 [==============================] - 11s 2s/step - loss: 0.2992 - accuracy: 0.8900 - val_loss: 0.4953 - val_accuracy: 0.8627\n",
            "Epoch 17/30\n",
            "6/6 [==============================] - 11s 2s/step - loss: 0.2922 - accuracy: 0.9200 - val_loss: 0.4826 - val_accuracy: 0.8660\n",
            "Epoch 18/30\n",
            "6/6 [==============================] - 11s 2s/step - loss: 0.2188 - accuracy: 0.9500 - val_loss: 0.4676 - val_accuracy: 0.8693\n",
            "Epoch 19/30\n",
            "6/6 [==============================] - 11s 2s/step - loss: 0.2366 - accuracy: 0.8900 - val_loss: 0.4614 - val_accuracy: 0.8627\n",
            "Epoch 20/30\n",
            "6/6 [==============================] - 11s 2s/step - loss: 0.2544 - accuracy: 0.9100 - val_loss: 0.4347 - val_accuracy: 0.8497\n",
            "Epoch 21/30\n",
            "6/6 [==============================] - 11s 2s/step - loss: 0.2454 - accuracy: 0.9000 - val_loss: 0.4335 - val_accuracy: 0.8725\n",
            "Epoch 22/30\n",
            "6/6 [==============================] - 11s 2s/step - loss: 0.1938 - accuracy: 0.9400 - val_loss: 0.4130 - val_accuracy: 0.8791\n",
            "Epoch 23/30\n",
            "6/6 [==============================] - 11s 2s/step - loss: 0.1564 - accuracy: 0.9600 - val_loss: 0.4024 - val_accuracy: 0.8725\n",
            "Epoch 24/30\n",
            "6/6 [==============================] - 11s 2s/step - loss: 0.1753 - accuracy: 0.9300 - val_loss: 0.3926 - val_accuracy: 0.8693\n",
            "Epoch 25/30\n",
            "6/6 [==============================] - 11s 2s/step - loss: 0.1404 - accuracy: 0.9600 - val_loss: 0.3794 - val_accuracy: 0.8725\n",
            "Epoch 26/30\n",
            "6/6 [==============================] - 11s 2s/step - loss: 0.1509 - accuracy: 0.9600 - val_loss: 0.3568 - val_accuracy: 0.8758\n",
            "Epoch 27/30\n",
            "6/6 [==============================] - 11s 2s/step - loss: 0.1530 - accuracy: 0.9400 - val_loss: 0.3391 - val_accuracy: 0.8824\n",
            "Epoch 28/30\n",
            "6/6 [==============================] - 11s 2s/step - loss: 0.1423 - accuracy: 0.9400 - val_loss: 0.3633 - val_accuracy: 0.8791\n",
            "Epoch 29/30\n",
            "6/6 [==============================] - 11s 2s/step - loss: 0.1345 - accuracy: 0.9400 - val_loss: 0.3334 - val_accuracy: 0.8889\n",
            "Epoch 30/30\n",
            "6/6 [==============================] - 11s 2s/step - loss: 0.1350 - accuracy: 0.9500 - val_loss: 0.3279 - val_accuracy: 0.8889\n"
          ],
          "name": "stdout"
        }
      ]
    },
    {
      "cell_type": "code",
      "metadata": {
        "colab": {
          "base_uri": "https://localhost:8080/"
        },
        "id": "bAnejCUgWq49",
        "outputId": "82b4481c-2435-4265-c5ce-d0f29a3df4d1"
      },
      "source": [
        "test_loss , test_acc =model.evaluate(test_generator)\n",
        "print(\"test acc : {} test losses : {}\".format(test_acc,test_loss))"
      ],
      "execution_count": null,
      "outputs": [
        {
          "output_type": "stream",
          "text": [
            "34/34 [==============================] - 9s 250ms/step - loss: 0.4552 - accuracy: 0.8033\n",
            "test acc : 0.8033333420753479 test losses : 0.4552119970321655\n"
          ],
          "name": "stdout"
        }
      ]
    },
    {
      "cell_type": "code",
      "metadata": {
        "colab": {
          "resources": {
            "http://localhost:8080/nbextensions/google.colab/files.js": {
              "data": "Ly8gQ29weXJpZ2h0IDIwMTcgR29vZ2xlIExMQwovLwovLyBMaWNlbnNlZCB1bmRlciB0aGUgQXBhY2hlIExpY2Vuc2UsIFZlcnNpb24gMi4wICh0aGUgIkxpY2Vuc2UiKTsKLy8geW91IG1heSBub3QgdXNlIHRoaXMgZmlsZSBleGNlcHQgaW4gY29tcGxpYW5jZSB3aXRoIHRoZSBMaWNlbnNlLgovLyBZb3UgbWF5IG9idGFpbiBhIGNvcHkgb2YgdGhlIExpY2Vuc2UgYXQKLy8KLy8gICAgICBodHRwOi8vd3d3LmFwYWNoZS5vcmcvbGljZW5zZXMvTElDRU5TRS0yLjAKLy8KLy8gVW5sZXNzIHJlcXVpcmVkIGJ5IGFwcGxpY2FibGUgbGF3IG9yIGFncmVlZCB0byBpbiB3cml0aW5nLCBzb2Z0d2FyZQovLyBkaXN0cmlidXRlZCB1bmRlciB0aGUgTGljZW5zZSBpcyBkaXN0cmlidXRlZCBvbiBhbiAiQVMgSVMiIEJBU0lTLAovLyBXSVRIT1VUIFdBUlJBTlRJRVMgT1IgQ09ORElUSU9OUyBPRiBBTlkgS0lORCwgZWl0aGVyIGV4cHJlc3Mgb3IgaW1wbGllZC4KLy8gU2VlIHRoZSBMaWNlbnNlIGZvciB0aGUgc3BlY2lmaWMgbGFuZ3VhZ2UgZ292ZXJuaW5nIHBlcm1pc3Npb25zIGFuZAovLyBsaW1pdGF0aW9ucyB1bmRlciB0aGUgTGljZW5zZS4KCi8qKgogKiBAZmlsZW92ZXJ2aWV3IEhlbHBlcnMgZm9yIGdvb2dsZS5jb2xhYiBQeXRob24gbW9kdWxlLgogKi8KKGZ1bmN0aW9uKHNjb3BlKSB7CmZ1bmN0aW9uIHNwYW4odGV4dCwgc3R5bGVBdHRyaWJ1dGVzID0ge30pIHsKICBjb25zdCBlbGVtZW50ID0gZG9jdW1lbnQuY3JlYXRlRWxlbWVudCgnc3BhbicpOwogIGVsZW1lbnQudGV4dENvbnRlbnQgPSB0ZXh0OwogIGZvciAoY29uc3Qga2V5IG9mIE9iamVjdC5rZXlzKHN0eWxlQXR0cmlidXRlcykpIHsKICAgIGVsZW1lbnQuc3R5bGVba2V5XSA9IHN0eWxlQXR0cmlidXRlc1trZXldOwogIH0KICByZXR1cm4gZWxlbWVudDsKfQoKLy8gTWF4IG51bWJlciBvZiBieXRlcyB3aGljaCB3aWxsIGJlIHVwbG9hZGVkIGF0IGEgdGltZS4KY29uc3QgTUFYX1BBWUxPQURfU0laRSA9IDEwMCAqIDEwMjQ7CgpmdW5jdGlvbiBfdXBsb2FkRmlsZXMoaW5wdXRJZCwgb3V0cHV0SWQpIHsKICBjb25zdCBzdGVwcyA9IHVwbG9hZEZpbGVzU3RlcChpbnB1dElkLCBvdXRwdXRJZCk7CiAgY29uc3Qgb3V0cHV0RWxlbWVudCA9IGRvY3VtZW50LmdldEVsZW1lbnRCeUlkKG91dHB1dElkKTsKICAvLyBDYWNoZSBzdGVwcyBvbiB0aGUgb3V0cHV0RWxlbWVudCB0byBtYWtlIGl0IGF2YWlsYWJsZSBmb3IgdGhlIG5leHQgY2FsbAogIC8vIHRvIHVwbG9hZEZpbGVzQ29udGludWUgZnJvbSBQeXRob24uCiAgb3V0cHV0RWxlbWVudC5zdGVwcyA9IHN0ZXBzOwoKICByZXR1cm4gX3VwbG9hZEZpbGVzQ29udGludWUob3V0cHV0SWQpOwp9CgovLyBUaGlzIGlzIHJvdWdobHkgYW4gYXN5bmMgZ2VuZXJhdG9yIChub3Qgc3VwcG9ydGVkIGluIHRoZSBicm93c2VyIHlldCksCi8vIHdoZXJlIHRoZXJlIGFyZSBtdWx0aXBsZSBhc3luY2hyb25vdXMgc3RlcHMgYW5kIHRoZSBQeXRob24gc2lkZSBpcyBnb2luZwovLyB0byBwb2xsIGZvciBjb21wbGV0aW9uIG9mIGVhY2ggc3RlcC4KLy8gVGhpcyB1c2VzIGEgUHJvbWlzZSB0byBibG9jayB0aGUgcHl0aG9uIHNpZGUgb24gY29tcGxldGlvbiBvZiBlYWNoIHN0ZXAsCi8vIHRoZW4gcGFzc2VzIHRoZSByZXN1bHQgb2YgdGhlIHByZXZpb3VzIHN0ZXAgYXMgdGhlIGlucHV0IHRvIHRoZSBuZXh0IHN0ZXAuCmZ1bmN0aW9uIF91cGxvYWRGaWxlc0NvbnRpbnVlKG91dHB1dElkKSB7CiAgY29uc3Qgb3V0cHV0RWxlbWVudCA9IGRvY3VtZW50LmdldEVsZW1lbnRCeUlkKG91dHB1dElkKTsKICBjb25zdCBzdGVwcyA9IG91dHB1dEVsZW1lbnQuc3RlcHM7CgogIGNvbnN0IG5leHQgPSBzdGVwcy5uZXh0KG91dHB1dEVsZW1lbnQubGFzdFByb21pc2VWYWx1ZSk7CiAgcmV0dXJuIFByb21pc2UucmVzb2x2ZShuZXh0LnZhbHVlLnByb21pc2UpLnRoZW4oKHZhbHVlKSA9PiB7CiAgICAvLyBDYWNoZSB0aGUgbGFzdCBwcm9taXNlIHZhbHVlIHRvIG1ha2UgaXQgYXZhaWxhYmxlIHRvIHRoZSBuZXh0CiAgICAvLyBzdGVwIG9mIHRoZSBnZW5lcmF0b3IuCiAgICBvdXRwdXRFbGVtZW50Lmxhc3RQcm9taXNlVmFsdWUgPSB2YWx1ZTsKICAgIHJldHVybiBuZXh0LnZhbHVlLnJlc3BvbnNlOwogIH0pOwp9CgovKioKICogR2VuZXJhdG9yIGZ1bmN0aW9uIHdoaWNoIGlzIGNhbGxlZCBiZXR3ZWVuIGVhY2ggYXN5bmMgc3RlcCBvZiB0aGUgdXBsb2FkCiAqIHByb2Nlc3MuCiAqIEBwYXJhbSB7c3RyaW5nfSBpbnB1dElkIEVsZW1lbnQgSUQgb2YgdGhlIGlucHV0IGZpbGUgcGlja2VyIGVsZW1lbnQuCiAqIEBwYXJhbSB7c3RyaW5nfSBvdXRwdXRJZCBFbGVtZW50IElEIG9mIHRoZSBvdXRwdXQgZGlzcGxheS4KICogQHJldHVybiB7IUl0ZXJhYmxlPCFPYmplY3Q+fSBJdGVyYWJsZSBvZiBuZXh0IHN0ZXBzLgogKi8KZnVuY3Rpb24qIHVwbG9hZEZpbGVzU3RlcChpbnB1dElkLCBvdXRwdXRJZCkgewogIGNvbnN0IGlucHV0RWxlbWVudCA9IGRvY3VtZW50LmdldEVsZW1lbnRCeUlkKGlucHV0SWQpOwogIGlucHV0RWxlbWVudC5kaXNhYmxlZCA9IGZhbHNlOwoKICBjb25zdCBvdXRwdXRFbGVtZW50ID0gZG9jdW1lbnQuZ2V0RWxlbWVudEJ5SWQob3V0cHV0SWQpOwogIG91dHB1dEVsZW1lbnQuaW5uZXJIVE1MID0gJyc7CgogIGNvbnN0IHBpY2tlZFByb21pc2UgPSBuZXcgUHJvbWlzZSgocmVzb2x2ZSkgPT4gewogICAgaW5wdXRFbGVtZW50LmFkZEV2ZW50TGlzdGVuZXIoJ2NoYW5nZScsIChlKSA9PiB7CiAgICAgIHJlc29sdmUoZS50YXJnZXQuZmlsZXMpOwogICAgfSk7CiAgfSk7CgogIGNvbnN0IGNhbmNlbCA9IGRvY3VtZW50LmNyZWF0ZUVsZW1lbnQoJ2J1dHRvbicpOwogIGlucHV0RWxlbWVudC5wYXJlbnRFbGVtZW50LmFwcGVuZENoaWxkKGNhbmNlbCk7CiAgY2FuY2VsLnRleHRDb250ZW50ID0gJ0NhbmNlbCB1cGxvYWQnOwogIGNvbnN0IGNhbmNlbFByb21pc2UgPSBuZXcgUHJvbWlzZSgocmVzb2x2ZSkgPT4gewogICAgY2FuY2VsLm9uY2xpY2sgPSAoKSA9PiB7CiAgICAgIHJlc29sdmUobnVsbCk7CiAgICB9OwogIH0pOwoKICAvLyBXYWl0IGZvciB0aGUgdXNlciB0byBwaWNrIHRoZSBmaWxlcy4KICBjb25zdCBmaWxlcyA9IHlpZWxkIHsKICAgIHByb21pc2U6IFByb21pc2UucmFjZShbcGlja2VkUHJvbWlzZSwgY2FuY2VsUHJvbWlzZV0pLAogICAgcmVzcG9uc2U6IHsKICAgICAgYWN0aW9uOiAnc3RhcnRpbmcnLAogICAgfQogIH07CgogIGNhbmNlbC5yZW1vdmUoKTsKCiAgLy8gRGlzYWJsZSB0aGUgaW5wdXQgZWxlbWVudCBzaW5jZSBmdXJ0aGVyIHBpY2tzIGFyZSBub3QgYWxsb3dlZC4KICBpbnB1dEVsZW1lbnQuZGlzYWJsZWQgPSB0cnVlOwoKICBpZiAoIWZpbGVzKSB7CiAgICByZXR1cm4gewogICAgICByZXNwb25zZTogewogICAgICAgIGFjdGlvbjogJ2NvbXBsZXRlJywKICAgICAgfQogICAgfTsKICB9CgogIGZvciAoY29uc3QgZmlsZSBvZiBmaWxlcykgewogICAgY29uc3QgbGkgPSBkb2N1bWVudC5jcmVhdGVFbGVtZW50KCdsaScpOwogICAgbGkuYXBwZW5kKHNwYW4oZmlsZS5uYW1lLCB7Zm9udFdlaWdodDogJ2JvbGQnfSkpOwogICAgbGkuYXBwZW5kKHNwYW4oCiAgICAgICAgYCgke2ZpbGUudHlwZSB8fCAnbi9hJ30pIC0gJHtmaWxlLnNpemV9IGJ5dGVzLCBgICsKICAgICAgICBgbGFzdCBtb2RpZmllZDogJHsKICAgICAgICAgICAgZmlsZS5sYXN0TW9kaWZpZWREYXRlID8gZmlsZS5sYXN0TW9kaWZpZWREYXRlLnRvTG9jYWxlRGF0ZVN0cmluZygpIDoKICAgICAgICAgICAgICAgICAgICAgICAgICAgICAgICAgICAgJ24vYSd9IC0gYCkpOwogICAgY29uc3QgcGVyY2VudCA9IHNwYW4oJzAlIGRvbmUnKTsKICAgIGxpLmFwcGVuZENoaWxkKHBlcmNlbnQpOwoKICAgIG91dHB1dEVsZW1lbnQuYXBwZW5kQ2hpbGQobGkpOwoKICAgIGNvbnN0IGZpbGVEYXRhUHJvbWlzZSA9IG5ldyBQcm9taXNlKChyZXNvbHZlKSA9PiB7CiAgICAgIGNvbnN0IHJlYWRlciA9IG5ldyBGaWxlUmVhZGVyKCk7CiAgICAgIHJlYWRlci5vbmxvYWQgPSAoZSkgPT4gewogICAgICAgIHJlc29sdmUoZS50YXJnZXQucmVzdWx0KTsKICAgICAgfTsKICAgICAgcmVhZGVyLnJlYWRBc0FycmF5QnVmZmVyKGZpbGUpOwogICAgfSk7CiAgICAvLyBXYWl0IGZvciB0aGUgZGF0YSB0byBiZSByZWFkeS4KICAgIGxldCBmaWxlRGF0YSA9IHlpZWxkIHsKICAgICAgcHJvbWlzZTogZmlsZURhdGFQcm9taXNlLAogICAgICByZXNwb25zZTogewogICAgICAgIGFjdGlvbjogJ2NvbnRpbnVlJywKICAgICAgfQogICAgfTsKCiAgICAvLyBVc2UgYSBjaHVua2VkIHNlbmRpbmcgdG8gYXZvaWQgbWVzc2FnZSBzaXplIGxpbWl0cy4gU2VlIGIvNjIxMTU2NjAuCiAgICBsZXQgcG9zaXRpb24gPSAwOwogICAgZG8gewogICAgICBjb25zdCBsZW5ndGggPSBNYXRoLm1pbihmaWxlRGF0YS5ieXRlTGVuZ3RoIC0gcG9zaXRpb24sIE1BWF9QQVlMT0FEX1NJWkUpOwogICAgICBjb25zdCBjaHVuayA9IG5ldyBVaW50OEFycmF5KGZpbGVEYXRhLCBwb3NpdGlvbiwgbGVuZ3RoKTsKICAgICAgcG9zaXRpb24gKz0gbGVuZ3RoOwoKICAgICAgY29uc3QgYmFzZTY0ID0gYnRvYShTdHJpbmcuZnJvbUNoYXJDb2RlLmFwcGx5KG51bGwsIGNodW5rKSk7CiAgICAgIHlpZWxkIHsKICAgICAgICByZXNwb25zZTogewogICAgICAgICAgYWN0aW9uOiAnYXBwZW5kJywKICAgICAgICAgIGZpbGU6IGZpbGUubmFtZSwKICAgICAgICAgIGRhdGE6IGJhc2U2NCwKICAgICAgICB9LAogICAgICB9OwoKICAgICAgbGV0IHBlcmNlbnREb25lID0gZmlsZURhdGEuYnl0ZUxlbmd0aCA9PT0gMCA/CiAgICAgICAgICAxMDAgOgogICAgICAgICAgTWF0aC5yb3VuZCgocG9zaXRpb24gLyBmaWxlRGF0YS5ieXRlTGVuZ3RoKSAqIDEwMCk7CiAgICAgIHBlcmNlbnQudGV4dENvbnRlbnQgPSBgJHtwZXJjZW50RG9uZX0lIGRvbmVgOwoKICAgIH0gd2hpbGUgKHBvc2l0aW9uIDwgZmlsZURhdGEuYnl0ZUxlbmd0aCk7CiAgfQoKICAvLyBBbGwgZG9uZS4KICB5aWVsZCB7CiAgICByZXNwb25zZTogewogICAgICBhY3Rpb246ICdjb21wbGV0ZScsCiAgICB9CiAgfTsKfQoKc2NvcGUuZ29vZ2xlID0gc2NvcGUuZ29vZ2xlIHx8IHt9OwpzY29wZS5nb29nbGUuY29sYWIgPSBzY29wZS5nb29nbGUuY29sYWIgfHwge307CnNjb3BlLmdvb2dsZS5jb2xhYi5fZmlsZXMgPSB7CiAgX3VwbG9hZEZpbGVzLAogIF91cGxvYWRGaWxlc0NvbnRpbnVlLAp9Owp9KShzZWxmKTsK",
              "ok": true,
              "headers": [
                [
                  "content-type",
                  "application/javascript"
                ]
              ],
              "status": 200,
              "status_text": ""
            }
          },
          "base_uri": "https://localhost:8080/",
          "height": 108
        },
        "id": "Gtqv-pPIX3cj",
        "outputId": "3e0b356f-db9d-4d3e-e7f7-afb4f4ac0431"
      },
      "source": [
        "import numpy as np\n",
        "from google.colab import files\n",
        "from keras.preprocessing import image\n",
        "\n",
        "uploaded=files.upload()\n",
        "#print(uploaded)\n",
        "for f in uploaded.keys():\n",
        "  img_path='/content/'+f\n",
        "  img = image.load_img(img_path , target_size=(150,150))\n",
        "  images = image.img_to_array(img)\n",
        "  images=np.expand_dims(images,axis=0)\n",
        "  prediction = model.predict(images)\n",
        "  if prediction==0:\n",
        "    print(f ,'mask is there')\n",
        "  else:\n",
        "    print(f,'no mask is present')"
      ],
      "execution_count": null,
      "outputs": [
        {
          "output_type": "display_data",
          "data": {
            "text/html": [
              "\n",
              "     <input type=\"file\" id=\"files-9461373f-0281-428c-ae8c-1c8e45cfe1e1\" name=\"files[]\" multiple disabled\n",
              "        style=\"border:none\" />\n",
              "     <output id=\"result-9461373f-0281-428c-ae8c-1c8e45cfe1e1\">\n",
              "      Upload widget is only available when the cell has been executed in the\n",
              "      current browser session. Please rerun this cell to enable.\n",
              "      </output>\n",
              "      <script src=\"/nbextensions/google.colab/files.js\"></script> "
            ],
            "text/plain": [
              "<IPython.core.display.HTML object>"
            ]
          },
          "metadata": {
            "tags": []
          }
        },
        {
          "output_type": "stream",
          "text": [
            "Saving WIN_20210727_21_20_02_Pro.jpg to WIN_20210727_21_20_02_Pro (1).jpg\n",
            "WIN_20210727_21_20_02_Pro.jpg mask is there\n"
          ],
          "name": "stdout"
        }
      ]
    },
    {
      "cell_type": "code",
      "metadata": {
        "id": "q6XcyphUfu8z"
      },
      "source": [
        "model.save('face_mask_dect_model.h5')"
      ],
      "execution_count": null,
      "outputs": []
    }
  ]
}